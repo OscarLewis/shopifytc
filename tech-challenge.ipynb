{
 "cells": [
  {
   "cell_type": "markdown",
   "metadata": {},
   "source": [
    "## Shopify Technical Challenge\n",
    "\n",
    "### Oscar Lewis\n"
   ]
  },
  {
   "cell_type": "markdown",
   "metadata": {},
   "source": [
    "Question 1: Given some sample data, write a program to answer the following: click here to access the required data set\n",
    "\n",
    "On Shopify, we have exactly 100 sneaker shops, and each of these shops sells only one model of shoe. We want to do some analysis of the average order value (AOV). When we look at orders data over a 30 day window, we naively calculate an AOV of $3145.13. Given that we know these shops are selling sneakers, a relatively affordable item, something seems wrong with our analysis.\n",
    "\n",
    "Think about what could be going wrong with our calculation. Think about a better way to evaluate this data.\n",
    "What metric would you report for this dataset?\n",
    "What is its value?\n"
   ]
  },
  {
   "cell_type": "markdown",
   "metadata": {},
   "source": [
    "#### Data Investigation\n"
   ]
  },
  {
   "cell_type": "code",
   "execution_count": 92,
   "metadata": {},
   "outputs": [],
   "source": [
    "# Include Packages\n",
    "import pandas as pd\n",
    "import numpy as np\n",
    "import seaborn as sns\n",
    "import matplotlib\n",
    "import matplotlib.pyplot as plt\n",
    "import matplotlib.dates as mdates\n",
    "from datetime import time\n",
    "import altair as alt\n",
    "import warnings\n",
    "\n",
    "warnings.filterwarnings(\"ignore\", message=\"FixedFormatter\")\n"
   ]
  },
  {
   "cell_type": "code",
   "execution_count": 3,
   "metadata": {},
   "outputs": [
    {
     "data": {
      "text/html": [
       "<div>\n",
       "<style scoped>\n",
       "    .dataframe tbody tr th:only-of-type {\n",
       "        vertical-align: middle;\n",
       "    }\n",
       "\n",
       "    .dataframe tbody tr th {\n",
       "        vertical-align: top;\n",
       "    }\n",
       "\n",
       "    .dataframe thead th {\n",
       "        text-align: right;\n",
       "    }\n",
       "</style>\n",
       "<table border=\"1\" class=\"dataframe\">\n",
       "  <thead>\n",
       "    <tr style=\"text-align: right;\">\n",
       "      <th></th>\n",
       "      <th>order_id</th>\n",
       "      <th>shop_id</th>\n",
       "      <th>user_id</th>\n",
       "      <th>order_amount</th>\n",
       "      <th>total_items</th>\n",
       "      <th>payment_method</th>\n",
       "      <th>created_at</th>\n",
       "    </tr>\n",
       "  </thead>\n",
       "  <tbody>\n",
       "    <tr>\n",
       "      <th>0</th>\n",
       "      <td>1</td>\n",
       "      <td>53</td>\n",
       "      <td>746</td>\n",
       "      <td>224</td>\n",
       "      <td>2</td>\n",
       "      <td>cash</td>\n",
       "      <td>2017-03-13 12:36:56</td>\n",
       "    </tr>\n",
       "    <tr>\n",
       "      <th>1</th>\n",
       "      <td>2</td>\n",
       "      <td>92</td>\n",
       "      <td>925</td>\n",
       "      <td>90</td>\n",
       "      <td>1</td>\n",
       "      <td>cash</td>\n",
       "      <td>2017-03-03 17:38:52</td>\n",
       "    </tr>\n",
       "    <tr>\n",
       "      <th>2</th>\n",
       "      <td>3</td>\n",
       "      <td>44</td>\n",
       "      <td>861</td>\n",
       "      <td>144</td>\n",
       "      <td>1</td>\n",
       "      <td>cash</td>\n",
       "      <td>2017-03-14 4:23:56</td>\n",
       "    </tr>\n",
       "    <tr>\n",
       "      <th>3</th>\n",
       "      <td>4</td>\n",
       "      <td>18</td>\n",
       "      <td>935</td>\n",
       "      <td>156</td>\n",
       "      <td>1</td>\n",
       "      <td>credit_card</td>\n",
       "      <td>2017-03-26 12:43:37</td>\n",
       "    </tr>\n",
       "    <tr>\n",
       "      <th>4</th>\n",
       "      <td>5</td>\n",
       "      <td>18</td>\n",
       "      <td>883</td>\n",
       "      <td>156</td>\n",
       "      <td>1</td>\n",
       "      <td>credit_card</td>\n",
       "      <td>2017-03-01 4:35:11</td>\n",
       "    </tr>\n",
       "  </tbody>\n",
       "</table>\n",
       "</div>"
      ],
      "text/plain": [
       "   order_id  shop_id  user_id  order_amount  total_items payment_method  \\\n",
       "0         1       53      746           224            2           cash   \n",
       "1         2       92      925            90            1           cash   \n",
       "2         3       44      861           144            1           cash   \n",
       "3         4       18      935           156            1    credit_card   \n",
       "4         5       18      883           156            1    credit_card   \n",
       "\n",
       "            created_at  \n",
       "0  2017-03-13 12:36:56  \n",
       "1  2017-03-03 17:38:52  \n",
       "2   2017-03-14 4:23:56  \n",
       "3  2017-03-26 12:43:37  \n",
       "4   2017-03-01 4:35:11  "
      ]
     },
     "execution_count": 3,
     "metadata": {},
     "output_type": "execute_result"
    }
   ],
   "source": [
    "data = pd.read_csv(\"sales_data.csv\")\n",
    "data.head()\n"
   ]
  },
  {
   "cell_type": "markdown",
   "metadata": {},
   "source": [
    "#### Question 1a:\n",
    "\n",
    "Think about what could be going wrong with our calculation. Think about a better way to evaluate this data.\n"
   ]
  },
  {
   "cell_type": "markdown",
   "metadata": {},
   "source": [
    "The first step I take when looking at a new dataset is to visualize the distribution of the data. This allows me to begin to identify any outliers and helps to inform later decisions. During this time I will also check for any null values, as those could be throwing off our observations.\n"
   ]
  },
  {
   "cell_type": "code",
   "execution_count": 4,
   "metadata": {},
   "outputs": [
    {
     "data": {
      "text/plain": [
       "(5000, 7)"
      ]
     },
     "execution_count": 4,
     "metadata": {},
     "output_type": "execute_result"
    }
   ],
   "source": [
    "data.shape\n"
   ]
  },
  {
   "cell_type": "code",
   "execution_count": 5,
   "metadata": {},
   "outputs": [
    {
     "data": {
      "text/plain": [
       "order_id          0\n",
       "shop_id           0\n",
       "user_id           0\n",
       "order_amount      0\n",
       "total_items       0\n",
       "payment_method    0\n",
       "created_at        0\n",
       "dtype: int64"
      ]
     },
     "execution_count": 5,
     "metadata": {},
     "output_type": "execute_result"
    }
   ],
   "source": [
    "data.isnull().sum()\n"
   ]
  },
  {
   "cell_type": "markdown",
   "metadata": {},
   "source": [
    "As we can see above, there are no null values in the dataset. Next I will use seaborn to graph\n"
   ]
  },
  {
   "cell_type": "code",
   "execution_count": 6,
   "metadata": {},
   "outputs": [
    {
     "data": {
      "image/png": "[encoded data removed]",
      "text/plain": [
       "<Figure size 360x360 with 1 Axes>"
      ]
     },
     "metadata": {
      "needs_background": "light"
     },
     "output_type": "display_data"
    }
   ],
   "source": [
    "dis_graph = sns.displot(data, x=\"order_amount\", bins=5)\n",
    "for axes in dis_graph.axes.flat:\n",
    "    axes.set_xticklabels(axes.get_xticklabels(), rotation=45)\n"
   ]
  },
  {
   "cell_type": "markdown",
   "metadata": {},
   "source": [
    "Let's take a look at some descriptive statistics about our sales data.\n"
   ]
  },
  {
   "cell_type": "code",
   "execution_count": 7,
   "metadata": {},
   "outputs": [
    {
     "data": {
      "text/plain": [
       "count      5000.000000\n",
       "mean       3145.128000\n",
       "std       41282.539349\n",
       "min          90.000000\n",
       "25%         163.000000\n",
       "50%         284.000000\n",
       "75%         390.000000\n",
       "max      704000.000000\n",
       "Name: order_amount, dtype: float64"
      ]
     },
     "execution_count": 7,
     "metadata": {},
     "output_type": "execute_result"
    }
   ],
   "source": [
    "data.order_amount.describe()\n"
   ]
  },
  {
   "cell_type": "code",
   "execution_count": 8,
   "metadata": {},
   "outputs": [
    {
     "name": "stdout",
     "output_type": "stream",
     "text": [
      "Standard deviation of order_amount is: 41282.539348788036\n"
     ]
    }
   ],
   "source": [
    "print(f\"Standard deviation of order_amount is: {data.order_amount.std()}\")\n"
   ]
  },
  {
   "cell_type": "markdown",
   "metadata": {},
   "source": [
    "This is a very high standard deviation of AOV which indicates that we have values that are very distant from the mean sneaker price in our dataset.\n"
   ]
  },
  {
   "cell_type": "code",
   "execution_count": 9,
   "metadata": {},
   "outputs": [
    {
     "name": "stdout",
     "output_type": "stream",
     "text": [
      "Median value of order_amount is: 284.0\n",
      "Min value of order_amount is: 90\n",
      "Max value of order_amount is: 704000\n"
     ]
    }
   ],
   "source": [
    "print(f\"Median value of order_amount is: {data.order_amount.median()}\")\n",
    "print(f\"Min value of order_amount is: {data.order_amount.min()}\")\n",
    "print(f\"Max value of order_amount is: {data.order_amount.max()}\")\n"
   ]
  },
  {
   "cell_type": "markdown",
   "metadata": {},
   "source": [
    "As we can see above, the max order_value is $704,000. This is significantly more expensive than both the median and minimum order values! This inidicates that the distribution of our order values is very wide and might contain some ouitlier values. We can visualize the distribution to investigate this further.\n"
   ]
  },
  {
   "cell_type": "markdown",
   "metadata": {},
   "source": [
    "Since we are interested in finding outliers, I decided to arrange the data according to shop_id. This allows us to more easily identify any patterns in what price tiers different shops are selling sneakers in.\n"
   ]
  },
  {
   "cell_type": "code",
   "execution_count": 12,
   "metadata": {},
   "outputs": [
    {
     "data": {
      "text/plain": [
       "<AxesSubplot:xlabel='shop_id', ylabel='order_amount'>"
      ]
     },
     "execution_count": 12,
     "metadata": {},
     "output_type": "execute_result"
    },
    {
     "data": {
      "image/png": "[encoded data removed]",
      "text/plain": [
       "<Figure size 640x480 with 1 Axes>"
      ]
     },
     "metadata": {},
     "output_type": "display_data"
    }
   ],
   "source": [
    "sns.scatterplot(data=data, y=\"order_amount\", x=\"shop_id\")\n"
   ]
  },
  {
   "cell_type": "code",
   "execution_count": 27,
   "metadata": {},
   "outputs": [
    {
     "name": "stdout",
     "output_type": "stream",
     "text": [
      "[42 78]\n"
     ]
    }
   ],
   "source": [
    "print(data[data[\"order_amount\"] > 5000][\"shop_id\"].unique())\n"
   ]
  },
  {
   "cell_type": "markdown",
   "metadata": {},
   "source": [
    "The only two shops that have sold an order of sneakers for over $5,000 are shop numbers 42 & 78. It is reasonble to assume that there is a good chance one, or both, of these are the outliers we are looking for.\n"
   ]
  },
  {
   "cell_type": "markdown",
   "metadata": {},
   "source": [
    "The first 'suspicious' shop_id is shop #42. This shop regularly sells the single highest priced orders in this dataset. Each time the shop sells one of their $704,000 orders, the total_items amount is always exactly 2,000 while their other non-max orders have a more normal range of total_items.\n"
   ]
  },
  {
   "cell_type": "code",
   "execution_count": 31,
   "metadata": {},
   "outputs": [
    {
     "name": "stdout",
     "output_type": "stream",
     "text": [
      "     order_id  shop_id  user_id  order_amount  total_items payment_method  \\\n",
      "15         16       42      607        704000         2000    credit_card   \n",
      "40         41       42      793           352            1    credit_card   \n",
      "60         61       42      607        704000         2000    credit_card   \n",
      "308       309       42      770           352            1    credit_card   \n",
      "409       410       42      904           704            2    credit_card   \n",
      "\n",
      "              created_at  \n",
      "15    2017-03-07 4:00:00  \n",
      "40   2017-03-24 14:15:41  \n",
      "60    2017-03-04 4:00:00  \n",
      "308  2017-03-11 18:14:39  \n",
      "409  2017-03-04 14:32:58  \n"
     ]
    }
   ],
   "source": [
    "print(data[data[\"shop_id\"] == 42].head())\n"
   ]
  },
  {
   "cell_type": "code",
   "execution_count": 42,
   "metadata": {},
   "outputs": [
    {
     "name": "stdout",
     "output_type": "stream",
     "text": [
      "There are 17 orders above $5,000 from the shop with shop_id = 42. This shop has also has sold 17 orders that each contained exactly 2,000 totals items.\n"
     ]
    }
   ],
   "source": [
    "print(\n",
    "    f\"There are {len(data.query('order_amount > 5000 and shop_id == 42'))} orders above $5,000 from the shop with shop_id = 42. This shop has also has sold {len(data.query('total_items == 2000 and shop_id == 42'))} orders that each contained exactly 2,000 totals items.\"\n",
    ")\n"
   ]
  },
  {
   "cell_type": "markdown",
   "metadata": {},
   "source": [
    "The other shop we should investigate is hop #78. This shop is consistently selling sneakers for a higher price than the vast majority of other shopify shops.\n"
   ]
  },
  {
   "cell_type": "code",
   "execution_count": 32,
   "metadata": {},
   "outputs": [
    {
     "name": "stdout",
     "output_type": "stream",
     "text": [
      "     order_id  shop_id  user_id  order_amount  total_items payment_method  \\\n",
      "160       161       78      990         25725            1    credit_card   \n",
      "490       491       78      936         51450            2          debit   \n",
      "493       494       78      983         51450            2           cash   \n",
      "511       512       78      967         51450            2           cash   \n",
      "617       618       78      760         51450            2           cash   \n",
      "\n",
      "              created_at  \n",
      "160   2017-03-12 5:56:57  \n",
      "490  2017-03-26 17:08:19  \n",
      "493  2017-03-16 21:39:35  \n",
      "511   2017-03-09 7:23:14  \n",
      "617  2017-03-18 11:18:42  \n"
     ]
    }
   ],
   "source": [
    "print(data[data[\"shop_id\"] == 78].head())\n"
   ]
  },
  {
   "cell_type": "code",
   "execution_count": 45,
   "metadata": {},
   "outputs": [
    {
     "name": "stdout",
     "output_type": "stream",
     "text": [
      "There are 46 orders above $2,500 from the shop with shop_id = 78.\n"
     ]
    }
   ],
   "source": [
    "print(\n",
    "    f\"There are {len(data.query('order_amount > 2500 and shop_id == 78'))} orders above $2,500 from the shop with shop_id = 78.\"\n",
    ")\n"
   ]
  },
  {
   "cell_type": "markdown",
   "metadata": {},
   "source": [
    "##### Shop# 42 Investigation:\n"
   ]
  },
  {
   "cell_type": "code",
   "execution_count": 128,
   "metadata": {},
   "outputs": [
    {
     "data": {
      "text/html": [
       "\n",
       "<div id=\"altair-viz-b872cbdbb63748e1b8ea7c5253322074\"></div>\n",
       "<script type=\"text/javascript\">\n",
       "  var VEGA_DEBUG = (typeof VEGA_DEBUG == \"undefined\") ? {} : VEGA_DEBUG;\n",
       "  (function(spec, embedOpt){\n",
       "    let outputDiv = document.currentScript.previousElementSibling;\n",
       "    if (outputDiv.id !== \"altair-viz-b872cbdbb63748e1b8ea7c5253322074\") {\n",
       "      outputDiv = document.getElementById(\"altair-viz-b872cbdbb63748e1b8ea7c5253322074\");\n",
       "    }\n",
       "    const paths = {\n",
       "      \"vega\": \"https://cdn.jsdelivr.net/npm//vega@5?noext\",\n",
       "      \"vega-lib\": \"https://cdn.jsdelivr.net/npm//vega-lib?noext\",\n",
       "      \"vega-lite\": \"https://cdn.jsdelivr.net/npm//vega-lite@4.17.0?noext\",\n",
       "      \"vega-embed\": \"https://cdn.jsdelivr.net/npm//vega-embed@6?noext\",\n",
       "    };\n",
       "\n",
       "    function maybeLoadScript(lib, version) {\n",
       "      var key = `${lib.replace(\"-\", \"\")}_version`;\n",
       "      return (VEGA_DEBUG[key] == version) ?\n",
       "        Promise.resolve(paths[lib]) :\n",
       "        new Promise(function(resolve, reject) {\n",
       "          var s = document.createElement('script');\n",
       "          document.getElementsByTagName(\"head\")[0].appendChild(s);\n",
       "          s.async = true;\n",
       "          s.onload = () => {\n",
       "            VEGA_DEBUG[key] = version;\n",
       "            return resolve(paths[lib]);\n",
       "          };\n",
       "          s.onerror = () => reject(`Error loading script: ${paths[lib]}`);\n",
       "          s.src = paths[lib];\n",
       "        });\n",
       "    }\n",
       "\n",
       "    function showError(err) {\n",
       "      outputDiv.innerHTML = `<div class=\"error\" style=\"color:red;\">${err}</div>`;\n",
       "      throw err;\n",
       "    }\n",
       "\n",
       "    function displayChart(vegaEmbed) {\n",
       "      vegaEmbed(outputDiv, spec, embedOpt)\n",
       "        .catch(err => showError(`Javascript Error: ${err.message}<br>This usually means there's a typo in your chart specification. See the javascript console for the full traceback.`));\n",
       "    }\n",
       "\n",
       "    if(typeof define === \"function\" && define.amd) {\n",
       "      requirejs.config({paths});\n",
       "      require([\"vega-embed\"], displayChart, err => showError(`Error loading script: ${err.message}`));\n",
       "    } else {\n",
       "      maybeLoadScript(\"vega\", \"5\")\n",
       "        .then(() => maybeLoadScript(\"vega-lite\", \"4.17.0\"))\n",
       "        .then(() => maybeLoadScript(\"vega-embed\", \"6\"))\n",
       "        .catch(showError)\n",
       "        .then(() => displayChart(vegaEmbed));\n",
       "    }\n",
       "  })({\"config\": {\"view\": {\"continuousWidth\": 400, \"continuousHeight\": 300}}, \"data\": {\"name\": \"data-d1c2de6e16fa649b3fa534aaa1a1e1a0\"}, \"mark\": \"point\", \"encoding\": {\"color\": {\"field\": \"total_items\", \"scale\": {\"scheme\": \"teals\"}, \"type\": \"quantitative\"}, \"tooltip\": [{\"field\": \"order_id\", \"type\": \"quantitative\"}, {\"field\": \"total_items\", \"type\": \"quantitative\"}, {\"field\": \"order_amount\", \"type\": \"quantitative\"}, {\"field\": \"created_at\", \"timeUnit\": \"monthdate\", \"title\": \"created_at\", \"type\": \"temporal\"}], \"x\": {\"axis\": {\"format\": \"%d, %b, %Y\", \"title\": \"Time Order was Created\"}, \"field\": \"created_at\", \"type\": \"temporal\"}, \"y\": {\"axis\": {\"format\": \"$.2f\"}, \"field\": \"order_amount\", \"title\": \"Order Amount (dollars)\", \"type\": \"quantitative\"}}, \"selection\": {\"selector017\": {\"type\": \"interval\", \"bind\": \"scales\", \"encodings\": [\"x\", \"y\"]}}, \"title\": \"Orders from Shop #42\", \"$schema\": \"https://vega.github.io/schema/vega-lite/v4.17.0.json\", \"datasets\": {\"data-d1c2de6e16fa649b3fa534aaa1a1e1a0\": [{\"order_id\": 16, \"shop_id\": 42, \"user_id\": 607, \"order_amount\": 704000, \"total_items\": 2000, \"payment_method\": \"credit_card\", \"created_at\": \"2017-03-07 4:00:00\"}, {\"order_id\": 41, \"shop_id\": 42, \"user_id\": 793, \"order_amount\": 352, \"total_items\": 1, \"payment_method\": \"credit_card\", \"created_at\": \"2017-03-24 14:15:41\"}, {\"order_id\": 61, \"shop_id\": 42, \"user_id\": 607, \"order_amount\": 704000, \"total_items\": 2000, \"payment_method\": \"credit_card\", \"created_at\": \"2017-03-04 4:00:00\"}, {\"order_id\": 309, \"shop_id\": 42, \"user_id\": 770, \"order_amount\": 352, \"total_items\": 1, \"payment_method\": \"credit_card\", \"created_at\": \"2017-03-11 18:14:39\"}, {\"order_id\": 410, \"shop_id\": 42, \"user_id\": 904, \"order_amount\": 704, \"total_items\": 2, \"payment_method\": \"credit_card\", \"created_at\": \"2017-03-04 14:32:58\"}, {\"order_id\": 521, \"shop_id\": 42, \"user_id\": 607, \"order_amount\": 704000, \"total_items\": 2000, \"payment_method\": \"credit_card\", \"created_at\": \"2017-03-02 4:00:00\"}, {\"order_id\": 835, \"shop_id\": 42, \"user_id\": 792, \"order_amount\": 352, \"total_items\": 1, \"payment_method\": \"cash\", \"created_at\": \"2017-03-25 21:31:25\"}, {\"order_id\": 836, \"shop_id\": 42, \"user_id\": 819, \"order_amount\": 704, \"total_items\": 2, \"payment_method\": \"cash\", \"created_at\": \"2017-03-09 14:15:15\"}, {\"order_id\": 939, \"shop_id\": 42, \"user_id\": 808, \"order_amount\": 1056, \"total_items\": 3, \"payment_method\": \"credit_card\", \"created_at\": \"2017-03-13 23:43:45\"}, {\"order_id\": 980, \"shop_id\": 42, \"user_id\": 744, \"order_amount\": 352, \"total_items\": 1, \"payment_method\": \"debit\", \"created_at\": \"2017-03-12 13:09:04\"}, {\"order_id\": 1105, \"shop_id\": 42, \"user_id\": 607, \"order_amount\": 704000, \"total_items\": 2000, \"payment_method\": \"credit_card\", \"created_at\": \"2017-03-24 4:00:00\"}, {\"order_id\": 1363, \"shop_id\": 42, \"user_id\": 607, \"order_amount\": 704000, \"total_items\": 2000, \"payment_method\": \"credit_card\", \"created_at\": \"2017-03-15 4:00:00\"}, {\"order_id\": 1365, \"shop_id\": 42, \"user_id\": 797, \"order_amount\": 1760, \"total_items\": 5, \"payment_method\": \"cash\", \"created_at\": \"2017-03-10 6:28:21\"}, {\"order_id\": 1368, \"shop_id\": 42, \"user_id\": 926, \"order_amount\": 1408, \"total_items\": 4, \"payment_method\": \"cash\", \"created_at\": \"2017-03-13 2:38:34\"}, {\"order_id\": 1437, \"shop_id\": 42, \"user_id\": 607, \"order_amount\": 704000, \"total_items\": 2000, \"payment_method\": \"credit_card\", \"created_at\": \"2017-03-11 4:00:00\"}, {\"order_id\": 1472, \"shop_id\": 42, \"user_id\": 907, \"order_amount\": 1408, \"total_items\": 4, \"payment_method\": \"debit\", \"created_at\": \"2017-03-12 23:00:22\"}, {\"order_id\": 1513, \"shop_id\": 42, \"user_id\": 946, \"order_amount\": 352, \"total_items\": 1, \"payment_method\": \"debit\", \"created_at\": \"2017-03-24 13:35:04\"}, {\"order_id\": 1521, \"shop_id\": 42, \"user_id\": 756, \"order_amount\": 704, \"total_items\": 2, \"payment_method\": \"debit\", \"created_at\": \"2017-03-22 13:10:31\"}, {\"order_id\": 1563, \"shop_id\": 42, \"user_id\": 607, \"order_amount\": 704000, \"total_items\": 2000, \"payment_method\": \"credit_card\", \"created_at\": \"2017-03-19 4:00:00\"}, {\"order_id\": 1603, \"shop_id\": 42, \"user_id\": 607, \"order_amount\": 704000, \"total_items\": 2000, \"payment_method\": \"credit_card\", \"created_at\": \"2017-03-17 4:00:00\"}, {\"order_id\": 1912, \"shop_id\": 42, \"user_id\": 739, \"order_amount\": 704, \"total_items\": 2, \"payment_method\": \"cash\", \"created_at\": \"2017-03-07 5:42:52\"}, {\"order_id\": 1930, \"shop_id\": 42, \"user_id\": 770, \"order_amount\": 352, \"total_items\": 1, \"payment_method\": \"credit_card\", \"created_at\": \"2017-03-17 8:11:13\"}, {\"order_id\": 2004, \"shop_id\": 42, \"user_id\": 934, \"order_amount\": 704, \"total_items\": 2, \"payment_method\": \"cash\", \"created_at\": \"2017-03-26 9:21:26\"}, {\"order_id\": 2019, \"shop_id\": 42, \"user_id\": 739, \"order_amount\": 352, \"total_items\": 1, \"payment_method\": \"debit\", \"created_at\": \"2017-03-01 12:42:26\"}, {\"order_id\": 2054, \"shop_id\": 42, \"user_id\": 951, \"order_amount\": 352, \"total_items\": 1, \"payment_method\": \"debit\", \"created_at\": \"2017-03-19 11:49:12\"}, {\"order_id\": 2154, \"shop_id\": 42, \"user_id\": 607, \"order_amount\": 704000, \"total_items\": 2000, \"payment_method\": \"credit_card\", \"created_at\": \"2017-03-12 4:00:00\"}, {\"order_id\": 2274, \"shop_id\": 42, \"user_id\": 747, \"order_amount\": 704, \"total_items\": 2, \"payment_method\": \"debit\", \"created_at\": \"2017-03-27 20:48:19\"}, {\"order_id\": 2298, \"shop_id\": 42, \"user_id\": 607, \"order_amount\": 704000, \"total_items\": 2000, \"payment_method\": \"credit_card\", \"created_at\": \"2017-03-07 4:00:00\"}, {\"order_id\": 2492, \"shop_id\": 42, \"user_id\": 868, \"order_amount\": 704, \"total_items\": 2, \"payment_method\": \"debit\", \"created_at\": \"2017-03-01 18:33:33\"}, {\"order_id\": 2610, \"shop_id\": 42, \"user_id\": 868, \"order_amount\": 704, \"total_items\": 2, \"payment_method\": \"debit\", \"created_at\": \"2017-03-23 18:10:14\"}, {\"order_id\": 2767, \"shop_id\": 42, \"user_id\": 970, \"order_amount\": 704, \"total_items\": 2, \"payment_method\": \"credit_card\", \"created_at\": \"2017-03-05 10:45:42\"}, {\"order_id\": 2836, \"shop_id\": 42, \"user_id\": 607, \"order_amount\": 704000, \"total_items\": 2000, \"payment_method\": \"credit_card\", \"created_at\": \"2017-03-28 4:00:00\"}, {\"order_id\": 2970, \"shop_id\": 42, \"user_id\": 607, \"order_amount\": 704000, \"total_items\": 2000, \"payment_method\": \"credit_card\", \"created_at\": \"2017-03-28 4:00:00\"}, {\"order_id\": 2988, \"shop_id\": 42, \"user_id\": 819, \"order_amount\": 1056, \"total_items\": 3, \"payment_method\": \"cash\", \"created_at\": \"2017-03-03 9:09:25\"}, {\"order_id\": 3333, \"shop_id\": 42, \"user_id\": 607, \"order_amount\": 704000, \"total_items\": 2000, \"payment_method\": \"credit_card\", \"created_at\": \"2017-03-24 4:00:00\"}, {\"order_id\": 3514, \"shop_id\": 42, \"user_id\": 726, \"order_amount\": 1056, \"total_items\": 3, \"payment_method\": \"debit\", \"created_at\": \"2017-03-24 17:51:05\"}, {\"order_id\": 3652, \"shop_id\": 42, \"user_id\": 830, \"order_amount\": 352, \"total_items\": 1, \"payment_method\": \"credit_card\", \"created_at\": \"2017-03-24 22:26:58\"}, {\"order_id\": 3698, \"shop_id\": 42, \"user_id\": 839, \"order_amount\": 352, \"total_items\": 1, \"payment_method\": \"debit\", \"created_at\": \"2017-03-12 2:45:09\"}, {\"order_id\": 3904, \"shop_id\": 42, \"user_id\": 975, \"order_amount\": 352, \"total_items\": 1, \"payment_method\": \"debit\", \"created_at\": \"2017-03-12 1:28:31\"}, {\"order_id\": 3999, \"shop_id\": 42, \"user_id\": 886, \"order_amount\": 352, \"total_items\": 1, \"payment_method\": \"debit\", \"created_at\": \"2017-03-09 20:10:41\"}, {\"order_id\": 4057, \"shop_id\": 42, \"user_id\": 607, \"order_amount\": 704000, \"total_items\": 2000, \"payment_method\": \"credit_card\", \"created_at\": \"2017-03-28 4:00:00\"}, {\"order_id\": 4232, \"shop_id\": 42, \"user_id\": 962, \"order_amount\": 352, \"total_items\": 1, \"payment_method\": \"cash\", \"created_at\": \"2017-03-04 0:01:19\"}, {\"order_id\": 4295, \"shop_id\": 42, \"user_id\": 859, \"order_amount\": 704, \"total_items\": 2, \"payment_method\": \"cash\", \"created_at\": \"2017-03-24 20:50:40\"}, {\"order_id\": 4327, \"shop_id\": 42, \"user_id\": 788, \"order_amount\": 704, \"total_items\": 2, \"payment_method\": \"debit\", \"created_at\": \"2017-03-16 23:37:57\"}, {\"order_id\": 4422, \"shop_id\": 42, \"user_id\": 736, \"order_amount\": 704, \"total_items\": 2, \"payment_method\": \"credit_card\", \"created_at\": \"2017-03-01 12:19:49\"}, {\"order_id\": 4626, \"shop_id\": 42, \"user_id\": 809, \"order_amount\": 352, \"total_items\": 1, \"payment_method\": \"credit_card\", \"created_at\": \"2017-03-11 8:21:26\"}, {\"order_id\": 4647, \"shop_id\": 42, \"user_id\": 607, \"order_amount\": 704000, \"total_items\": 2000, \"payment_method\": \"credit_card\", \"created_at\": \"2017-03-02 4:00:00\"}, {\"order_id\": 4746, \"shop_id\": 42, \"user_id\": 872, \"order_amount\": 352, \"total_items\": 1, \"payment_method\": \"debit\", \"created_at\": \"2017-03-24 0:57:24\"}, {\"order_id\": 4768, \"shop_id\": 42, \"user_id\": 720, \"order_amount\": 704, \"total_items\": 2, \"payment_method\": \"credit_card\", \"created_at\": \"2017-03-14 10:26:08\"}, {\"order_id\": 4869, \"shop_id\": 42, \"user_id\": 607, \"order_amount\": 704000, \"total_items\": 2000, \"payment_method\": \"credit_card\", \"created_at\": \"2017-03-22 4:00:00\"}, {\"order_id\": 4883, \"shop_id\": 42, \"user_id\": 607, \"order_amount\": 704000, \"total_items\": 2000, \"payment_method\": \"credit_card\", \"created_at\": \"2017-03-25 4:00:00\"}]}}, {\"mode\": \"vega-lite\"});\n",
       "</script>"
      ],
      "text/plain": [
       "alt.Chart(...)"
      ]
     },
     "execution_count": 128,
     "metadata": {},
     "output_type": "execute_result"
    }
   ],
   "source": [
    "shop_42_df = data.loc[data['shop_id'] == 42]\n",
    "alt.Chart(shop_42_df).mark_point().encode(\n",
    "    x=alt.X('created_at:T', axis=alt.Axis(format='%d, %b, %Y', title=\"Time Order was Created\")),\n",
    "    y=alt.Y('order_amount:Q', axis=alt.Axis(format='$.2f'), title=\"Order Amount (dollars)\"),\n",
    "    color = alt.Color('total_items', scale=alt.Scale(scheme='teals')),\n",
    "    tooltip=['order_id', 'total_items', 'order_amount', alt.Tooltip('monthdate(created_at):T', title=\"created_at\")]\n",
    ").properties(\n",
    "    title='Orders from Shop #42'\n",
    ").interactive()\n"
   ]
  },
  {
   "cell_type": "markdown",
   "metadata": {},
   "source": [
    "From the above interactive visualization "
   ]
  }
 ],
 "metadata": {
  "interpreter": {
   "hash": "9f2777cb0be65d8ab56e8826f097c3f020bb2fe1fbdaa8a0bfed91c8a2b59548"
  },
  "kernelspec": {
   "display_name": "Python 3.9.5 ('venv': venv)",
   "language": "python",
   "name": "python3"
  },
  "language_info": {
   "codemirror_mode": {
    "name": "ipython",
    "version": 3
   },
   "file_extension": ".py",
   "mimetype": "text/x-python",
   "name": "python",
   "nbconvert_exporter": "python",
   "pygments_lexer": "ipython3",
   "version": "3.9.5"
  },
  "orig_nbformat": 4
 },
 "nbformat": 4,
 "nbformat_minor": 2
}
